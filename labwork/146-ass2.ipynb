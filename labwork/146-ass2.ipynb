{
 "cells": [
  {
   "cell_type": "code",
   "execution_count": 2,
   "metadata": {},
   "outputs": [
    {
     "name": "stdout",
     "output_type": "stream",
     "text": [
      "6.66667\n",
      "4.22222\n",
      "12.6667\n",
      "4.22222\n",
      "30.8519\n"
     ]
    }
   ],
   "source": [
    "import tensorflow as tf\n",
    "\n",
    "x =tf.constant((6.5,9.5,4.5))\n",
    "y =tf.constant((9.5,8.5,5.5))\n",
    "\n",
    "xsum = tf.reduce_sum(x)\n",
    "m=tf.reduce_mean(x)\n",
    "n=tf.reduce_mean(y)\n",
    "init1 = tf.global_variables_initializer()\n",
    "session = tf.Session()\n",
    "session.run(init1)\n",
    "\n",
    "\n",
    "#xmean = tf.divide(xsum,3)\n",
    "\n",
    "x1=tf.subtract(x,m)\n",
    "\n",
    "mx=tf.multiply(x1,x1)\n",
    "y1=tf.subtract(y,n)\n",
    "\n",
    "my=tf.multiply(y1,y1)\n",
    "xy=tf.multiply(x1,y1)\n",
    "cxy=tf.reduce_sum(xy)\n",
    "\n",
    "print(session.run(cxy))\n",
    "\n",
    "\n",
    "xsum = tf.reduce_sum(mx)\n",
    "ysum = tf.reduce_sum(my)\n",
    "\n",
    "\n",
    "m = tf.divide(xsum,3)\n",
    "\n",
    "print(session.run(m))\n",
    "print(session.run(xsum))\n",
    "\n",
    "\n",
    "m1=tf.divide(cxy,xsum)\n",
    "print(session.run(m))\n",
    "subc=tf.subtract(n,m1)\n",
    "c=tf.multiply(subc,m)\n",
    "print(session.run(c))\n",
    "writer = tf.summary.FileWriter(\"/tmp/tboard/output\", session.graph)\n"
   ]
  },
  {
   "cell_type": "code",
   "execution_count": null,
   "metadata": {
    "collapsed": true
   },
   "outputs": [],
   "source": []
  }
 ],
 "metadata": {
  "kernelspec": {
   "display_name": "Python 3",
   "language": "python",
   "name": "python3"
  },
  "language_info": {
   "codemirror_mode": {
    "name": "ipython",
    "version": 3
   },
   "file_extension": ".py",
   "mimetype": "text/x-python",
   "name": "python",
   "nbconvert_exporter": "python",
   "pygments_lexer": "ipython3",
   "version": "3.6.1"
  }
 },
 "nbformat": 4,
 "nbformat_minor": 2
}
