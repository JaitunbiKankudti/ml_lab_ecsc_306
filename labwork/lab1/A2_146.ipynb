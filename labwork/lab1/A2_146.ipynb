{
 "cells": [
  {
   "cell_type": "code",
   "execution_count": 1,
   "metadata": {},
   "outputs": [
    {
     "name": "stdout",
     "output_type": "stream",
     "text": [
      "4\n"
     ]
    }
   ],
   "source": [
    "import tensorflow as tf\n",
    "a = 8\n",
    "b = 2\n",
    "c = 4 \n",
    "d = tf.pow(a, 2,)\n",
    "e = tf.pow(b, 2,)\n",
    "f = tf.pow(c, 2,)\n",
    "g = tf.add(d,e,)\n",
    "h = tf.add(f,g,)\n",
    "i = tf.multiply(tf.multiply(2, a,),b)\n",
    "j = tf.multiply(tf.multiply(2,c,),a)\n",
    "k = tf.multiply(tf.multiply(2,b,),c)\n",
    "l = tf.subtract(h,i,)\n",
    "m = tf.subtract(l,j,)\n",
    "n = tf.add(m,k,)\n",
    "\n",
    "with tf.Session() as sess:\n",
    "    writer = tf.summary.FileWriter(\"/tmp/tboard/output1\", sess.graph)\n",
    "    print(sess.run(n))\n",
    "    writer.close()"
   ]
  },
  {
   "cell_type": "code",
   "execution_count": null,
   "metadata": {
    "collapsed": true
   },
   "outputs": [],
   "source": []
  }
 ],
 "metadata": {
  "kernelspec": {
   "display_name": "Python 3",
   "language": "python",
   "name": "python3"
  },
  "language_info": {
   "codemirror_mode": {
    "name": "ipython",
    "version": 3
   },
   "file_extension": ".py",
   "mimetype": "text/x-python",
   "name": "python",
   "nbconvert_exporter": "python",
   "pygments_lexer": "ipython3",
   "version": "3.6.1"
  }
 },
 "nbformat": 4,
 "nbformat_minor": 2
}
